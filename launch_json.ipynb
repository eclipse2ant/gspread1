{
  "nbformat": 4,
  "nbformat_minor": 0,
  "metadata": {
    "colab": {
      "provenance": [],
      "authorship_tag": "ABX9TyNdm9aiQ8UKTFVhESWEtwZb",
      "include_colab_link": true
    },
    "kernelspec": {
      "name": "python3",
      "display_name": "Python 3"
    },
    "language_info": {
      "name": "python"
    }
  },
  "cells": [
    {
      "cell_type": "markdown",
      "metadata": {
        "id": "view-in-github",
        "colab_type": "text"
      },
      "source": [
        "<a href=\"https://colab.research.google.com/github/eclipse2ant/gspread1/blob/master/launch_json.ipynb\" target=\"_parent\"><img src=\"https://colab.research.google.com/assets/colab-badge.svg\" alt=\"Open In Colab\"/></a>"
      ]
    },
    {
      "cell_type": "markdown",
      "source": [
        "```json\n",
        "launch.json\n",
        "{\n",
        "    \"version\": \"0.2.0\",\n",
        "    \"configurations\": [\n",
        "      {\n",
        "        \"name\": \"(gdb) Launch\",         // 構成名\n",
        "        \"type\": \"cppdbg\",               // デバッガのタイプ\n",
        "        \"request\": \"launch\",            // 実行タイプ（launch: 実行、attach: プロセスに接続）\n",
        "        \"program\": \"${workspaceFolder}/ls\",  // コンパイルされたプログラムのパス\n",
        "        \"args\": [\"-l\", \"-D\", \"cut\", \"groups\", \"mv\", \"realpath\", \"stdbuf\"],                     // プログラムに渡す引数（必要に応じて設定）\n",
        "        \"stopAtEntry\": false,           // プログラムのエントリポイントで停止するか\n",
        "        \"cwd\": \"${workspaceFolder}\",    // カレントディレクトリ\n",
        "        \"environment\": [],\n",
        "        \"externalConsole\": false,       // 外部コンソールを使用するか\n",
        "        \"MIMode\": \"gdb\",                // gdb を使用\n",
        "        \"setupCommands\": [\n",
        "          {\n",
        "            \"description\": \"Enable pretty-printing for gdb\",\n",
        "            \"text\": \"-enable-pretty-printing\",\n",
        "            \"ignoreFailures\": true\n",
        "          }\n",
        "        ],\n",
        "        \"miDebuggerPath\": \"/usr/bin/gdb\", // gdb のパス\n",
        "        \"logging\": {\n",
        "          \"moduleLoad\": false,\n",
        "          \"trace\": true,\n",
        "          \"engineLogging\": true,\n",
        "          \"programOutput\": true,\n",
        "          \"exceptions\": true\n",
        "        },\n",
        "        \"internalConsoleOptions\": \"openOnSessionStart\"\n",
        "      }\n",
        "    ]\n",
        "  }\n",
        "  \n",
        "```"
      ],
      "metadata": {
        "id": "2zSfmaleHDYd"
      }
    }
  ]
}