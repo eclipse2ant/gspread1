{
 "cells": [
  {
   "cell_type": "code",
   "execution_count": 1,
   "id": "dbaef6e7-f6e8-42f5-805f-948e4e17ad7f",
   "metadata": {},
   "outputs": [
    {
     "name": "stdout",
     "output_type": "stream",
     "text": [
      "Collecting gspread\n",
      "  Downloading gspread-5.1.1-py3-none-any.whl (31 kB)\n",
      "Collecting oauth2client\n",
      "  Downloading oauth2client-4.1.3-py2.py3-none-any.whl (98 kB)\n",
      "Collecting google-auth>=1.12.0\n",
      "  Downloading google_auth-2.6.0-py2.py3-none-any.whl (156 kB)\n",
      "Collecting google-auth-oauthlib>=0.4.1\n",
      "  Downloading google_auth_oauthlib-0.4.6-py2.py3-none-any.whl (18 kB)\n",
      "Collecting httplib2>=0.9.1\n",
      "  Downloading httplib2-0.20.4-py3-none-any.whl (96 kB)\n",
      "Requirement already satisfied: six>=1.6.1 in c:\\users\\tanakasy\\anaconda3\\envs\\my_env\\lib\\site-packages (from oauth2client) (1.16.0)\n",
      "Collecting pyasn1>=0.1.7\n",
      "  Downloading pyasn1-0.4.8-py2.py3-none-any.whl (77 kB)\n",
      "Collecting pyasn1-modules>=0.0.5\n",
      "  Downloading pyasn1_modules-0.2.8-py2.py3-none-any.whl (155 kB)\n",
      "Collecting rsa>=3.1.4\n",
      "  Downloading rsa-4.8-py3-none-any.whl (39 kB)\n",
      "Collecting cachetools<6.0,>=2.0.0\n",
      "  Downloading cachetools-5.0.0-py3-none-any.whl (9.1 kB)\n",
      "Collecting requests-oauthlib>=0.7.0\n",
      "  Downloading requests_oauthlib-1.3.1-py2.py3-none-any.whl (23 kB)\n",
      "Requirement already satisfied: pyparsing!=3.0.0,!=3.0.1,!=3.0.2,!=3.0.3,<4,>=2.4.2 in c:\\users\\tanakasy\\anaconda3\\envs\\my_env\\lib\\site-packages (from httplib2>=0.9.1->oauth2client) (2.4.7)\n",
      "Requirement already satisfied: requests>=2.0.0 in c:\\users\\tanakasy\\anaconda3\\envs\\my_env\\lib\\site-packages (from requests-oauthlib>=0.7.0->google-auth-oauthlib>=0.4.1->gspread) (2.26.0)\n",
      "Collecting oauthlib>=3.0.0\n",
      "  Downloading oauthlib-3.2.0-py3-none-any.whl (151 kB)\n",
      "Requirement already satisfied: urllib3<1.27,>=1.21.1 in c:\\users\\tanakasy\\anaconda3\\envs\\my_env\\lib\\site-packages (from requests>=2.0.0->requests-oauthlib>=0.7.0->google-auth-oauthlib>=0.4.1->gspread) (1.26.6)\n",
      "Requirement already satisfied: idna<4,>=2.5 in c:\\users\\tanakasy\\anaconda3\\envs\\my_env\\lib\\site-packages (from requests>=2.0.0->requests-oauthlib>=0.7.0->google-auth-oauthlib>=0.4.1->gspread) (3.1)\n",
      "Requirement already satisfied: certifi>=2017.4.17 in c:\\users\\tanakasy\\anaconda3\\envs\\my_env\\lib\\site-packages (from requests>=2.0.0->requests-oauthlib>=0.7.0->google-auth-oauthlib>=0.4.1->gspread) (2021.5.30)\n",
      "Requirement already satisfied: charset-normalizer~=2.0.0 in c:\\users\\tanakasy\\anaconda3\\envs\\my_env\\lib\\site-packages (from requests>=2.0.0->requests-oauthlib>=0.7.0->google-auth-oauthlib>=0.4.1->gspread) (2.0.0)\n",
      "Installing collected packages: pyasn1, rsa, pyasn1-modules, oauthlib, cachetools, requests-oauthlib, google-auth, httplib2, google-auth-oauthlib, oauth2client, gspread\n",
      "Successfully installed cachetools-5.0.0 google-auth-2.6.0 google-auth-oauthlib-0.4.6 gspread-5.1.1 httplib2-0.20.4 oauth2client-4.1.3 oauthlib-3.2.0 pyasn1-0.4.8 pyasn1-modules-0.2.8 requests-oauthlib-1.3.1 rsa-4.8\n"
     ]
    }
   ],
   "source": [
    "!pip install gspread oauth2client"
   ]
  },
  {
   "cell_type": "code",
   "execution_count": 3,
   "id": "b0a4ff30-36ad-4864-b1cf-0f37ea0a6b2c",
   "metadata": {},
   "outputs": [],
   "source": [
    "import gspread\n",
    "from oauth2client.service_account import ServiceAccountCredentials"
   ]
  },
  {
   "cell_type": "code",
   "execution_count": 4,
   "id": "86222acf-00fb-4e85-b330-d46ebf1f4f3f",
   "metadata": {},
   "outputs": [],
   "source": [
    "SCOPES = ['https://spreadsheets.google.com/feeds', 'https://www.googleapis.com/auth/drive']\n",
    "SERVICE_ACCOUNT_FILE = 'my-project-test-341511-463b29901330.json'"
   ]
  },
  {
   "cell_type": "code",
   "execution_count": 5,
   "id": "623b2246-ad21-4246-8646-6886a65d44d8",
   "metadata": {},
   "outputs": [],
   "source": [
    "credentials = ServiceAccountCredentials.from_json_keyfile_name(SERVICE_ACCOUNT_FILE)"
   ]
  },
  {
   "cell_type": "code",
   "execution_count": 9,
   "id": "97c95d6b-6ad4-467d-8fc4-5b226e703207",
   "metadata": {},
   "outputs": [],
   "source": [
    "gs = gspread.authorize(credentials)\n",
    "\n",
    "SPEADSHEET_KEY = '1RNHv5lmoMewA0O0LyfB5lpDLs2hFR_7gHbkIQF3yvZk'\n",
    "worksheet = gs.open_by_key(SPEADSHEET_KEY).worksheet(\"使う関数\")"
   ]
  },
  {
   "cell_type": "code",
   "execution_count": 11,
   "id": "8bca779b-fa85-40dc-bc14-be268719e6ce",
   "metadata": {},
   "outputs": [
    {
     "name": "stdout",
     "output_type": "stream",
     "text": [
      "値の合計\n"
     ]
    }
   ],
   "source": [
    "print(worksheet.acell(\"D2\").value)"
   ]
  },
  {
   "cell_type": "code",
   "execution_count": null,
   "id": "2420f0cb-7047-4dc4-a831-888ed22088b7",
   "metadata": {},
   "outputs": [],
   "source": []
  }
 ],
 "metadata": {
  "kernelspec": {
   "display_name": "Python 3 (ipykernel)",
   "language": "python",
   "name": "python3"
  },
  "language_info": {
   "codemirror_mode": {
    "name": "ipython",
    "version": 3
   },
   "file_extension": ".py",
   "mimetype": "text/x-python",
   "name": "python",
   "nbconvert_exporter": "python",
   "pygments_lexer": "ipython3",
   "version": "3.9.6"
  }
 },
 "nbformat": 4,
 "nbformat_minor": 5
}
